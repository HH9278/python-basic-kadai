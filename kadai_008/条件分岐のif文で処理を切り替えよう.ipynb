{
  "nbformat": 4,
  "nbformat_minor": 0,
  "metadata": {
    "colab": {
      "provenance": []
    },
    "kernelspec": {
      "name": "python3",
      "display_name": "Python 3"
    },
    "language_info": {
      "name": "python"
    }
  },
  "cells": [
    {
      "cell_type": "code",
      "execution_count": 8,
      "metadata": {
        "colab": {
          "base_uri": "https://localhost:8080/"
        },
        "id": "i3Ndauklvgy8",
        "outputId": "66170c4f-c25d-4690-c67f-8c600b2ea4bf"
      },
      "outputs": [
        {
          "output_type": "stream",
          "name": "stdout",
          "text": [
            "1\n",
            "2\n",
            "Fizz\n",
            "4\n",
            "Buzz\n",
            "Fizz\n",
            "7\n",
            "8\n",
            "Fizz\n",
            "Buzz\n",
            "11\n",
            "Fizz\n",
            "13\n",
            "14\n",
            "FizzBuzz\n",
            "16\n",
            "17\n",
            "Fizz\n",
            "19\n",
            "Buzz\n",
            "Fizz\n",
            "22\n",
            "23\n",
            "Fizz\n",
            "Buzz\n",
            "26\n",
            "Fizz\n",
            "28\n",
            "29\n",
            "FizzBuzz\n"
          ]
        }
      ],
      "source": [
        "for var in range(1,31,1):\n",
        "  if var % 3 == 0 and var % 5 == 0:\n",
        "    print('FizzBuzz')\n",
        "  elif var % 3 == 0:\n",
        "    print('Fizz')\n",
        "  elif var % 5 == 0:\n",
        "    print('Buzz')\n",
        "  else:\n",
        "    print(var)"
      ]
    }
  ]
}