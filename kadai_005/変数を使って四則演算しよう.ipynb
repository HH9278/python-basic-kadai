{
  "cells": [
    {
      "cell_type": "code",
      "execution_count": null,
      "metadata": {
        "colab": {
          "base_uri": "https://localhost:8080/"
        },
        "id": "Y-TLQboUO-6O",
        "outputId": "1f5ab04d-d47d-497a-e97d-58621892e280"
      },
      "outputs": [
        {
          "name": "stdout",
          "output_type": "stream",
          "text": [
            "上辺：10cm\n",
            "下辺：20cm\n",
            "高さ：5cm\n",
            "--------------\n",
            "面積：500.0㎠\n"
          ]
        }
      ],
      "source": [
        "j = 10\n",
        "k = 20\n",
        "t = 5\n",
        "m = j*k*t/2\n",
        "print(f'上辺：{j}cm')\n",
        "print(f'下辺：{k}cm')\n",
        "print(f'高さ：{t}cm')\n",
        "print('--------------')\n",
        "print(f'面積：{m}㎠')"
      ]
    }
  ],
  "metadata": {
    "colab": {
      "provenance": []
    },
    "kernelspec": {
      "display_name": "Python 3",
      "name": "python3"
    },
    "language_info": {
      "name": "python"
    }
  },
  "nbformat": 4,
  "nbformat_minor": 0
}
