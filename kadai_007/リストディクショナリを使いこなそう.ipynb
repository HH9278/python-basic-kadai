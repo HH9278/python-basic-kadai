{
  "nbformat": 4,
  "nbformat_minor": 0,
  "metadata": {
    "colab": {
      "provenance": []
    },
    "kernelspec": {
      "name": "python3",
      "display_name": "Python 3"
    },
    "language_info": {
      "name": "python"
    }
  },
  "cells": [
    {
      "cell_type": "code",
      "execution_count": 15,
      "metadata": {
        "colab": {
          "base_uri": "https://localhost:8080/"
        },
        "id": "7kd1GXuvk9ZO",
        "outputId": "23893a5e-c66b-46b3-a243-998c7d2ed6cc"
      },
      "outputs": [
        {
          "output_type": "stream",
          "name": "stdout",
          "text": [
            "array\n",
            "----------------\n",
            "月曜日は晴れです\n",
            "火曜日は雨です\n",
            "水曜日は晴れです\n",
            "木曜日は晴れです\n",
            "金曜日は曇りです\n",
            "土曜日は曇りのち雨です\n",
            "日曜日は雷雨です\n",
            "\n",
            "\n",
            "dictionary\n",
            "----------------\n",
            "mon 晴れ\n",
            "tue 雨\n",
            "wed 晴れ\n",
            "thu 晴れ\n",
            "fri 曇り\n",
            "sat 曇りのち雨\n",
            "sun 雷雨\n",
            "\n",
            "\n",
            "wednesday weather\n",
            "----------------\n",
            "晴れ\n"
          ]
        }
      ],
      "source": [
        "array=['月曜日は晴れです','火曜日は雨です','水曜日は晴れです','木曜日は晴れです','金曜日は曇りです','土曜日は曇りのち雨です','日曜日は雷雨です']\n",
        "dictionary={\"mon\": \"晴れ\", \"tue\": \"雨\", \"wed\": \"晴れ\", \"thu\": \"晴れ\", \"fri\": \"曇り\", \"sat\": \"曇りのち雨\", \"sun\": \"雷雨\"}\n",
        "\n",
        "print(\"array\")\n",
        "print(\"----------------\")\n",
        "\n",
        "for a in array:\n",
        "  print(a)\n",
        "\n",
        "print(\"\\n\")\n",
        "\n",
        "print(\"dictionary\")\n",
        "print(\"----------------\")\n",
        "\n",
        "for d in dictionary:\n",
        "  print(d + \" \" + dictionary[d])\n",
        "\n",
        "print(\"\\n\")\n",
        "\n",
        "print(\"wednesday weather\")\n",
        "print(\"----------------\")\n",
        "print(dictionary['wed'])"
      ]
    }
  ]
}