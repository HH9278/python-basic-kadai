{
  "nbformat": 4,
  "nbformat_minor": 0,
  "metadata": {
    "colab": {
      "provenance": []
    },
    "kernelspec": {
      "name": "python3",
      "display_name": "Python 3"
    },
    "language_info": {
      "name": "python"
    }
  },
  "cells": [
    {
      "cell_type": "code",
      "execution_count": 4,
      "metadata": {
        "colab": {
          "base_uri": "https://localhost:8080/"
        },
        "id": "ecLNULf2KD6f",
        "outputId": "20adaba6-d561-40a7-e14c-9aee9c482ad8"
      },
      "outputs": [
        {
          "output_type": "stream",
          "name": "stdout",
          "text": [
            "110\n"
          ]
        }
      ],
      "source": [
        "def calcTax(price, tax) -> int:\n",
        "  return price + price * tax\n",
        "\n",
        "p = 100\n",
        "t = 0.1\n",
        "\n",
        "payment = int(calcTax(p, t))\n",
        "\n",
        "print(payment)"
      ]
    }
  ]
}