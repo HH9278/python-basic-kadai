{
  "nbformat": 4,
  "nbformat_minor": 0,
  "metadata": {
    "colab": {
      "provenance": []
    },
    "kernelspec": {
      "name": "python3",
      "display_name": "Python 3"
    },
    "language_info": {
      "name": "python"
    }
  },
  "cells": [
    {
      "cell_type": "code",
      "execution_count": 9,
      "metadata": {
        "id": "t2FqXVdDicp3",
        "colab": {
          "base_uri": "https://localhost:8080/"
        },
        "outputId": "32a5a9d6-38e4-4ec0-9c54-951079e46044"
      },
      "outputs": [
        {
          "output_type": "stream",
          "name": "stdout",
          "text": [
            "太郎は大人です。\n",
            "次郎は子どもです。\n",
            "義夫は大人です。\n"
          ]
        }
      ],
      "source": [
        "class Human:\n",
        "  def __init__(self):\n",
        "    self.name = ''\n",
        "    self.age = 0\n",
        "  def __init__(self, n, a):\n",
        "    self.name = n\n",
        "    self.age = a\n",
        "  def check_adult(self):\n",
        "    return self.age >= 20\n",
        "\n",
        "def otonakodomo(ag):\n",
        "  if ag >= 20:\n",
        "    chk = \"大人\"\n",
        "  else:\n",
        "    chk = \"子ども\"\n",
        "  return chk\n",
        "\n",
        "lst = {'太郎':20, '次郎':15, '義夫': 25}\n",
        "\n",
        "for k, v in lst.items():\n",
        "  a = otonakodomo(v)\n",
        "  print(f'{k}は{a}です。')\n"
      ]
    }
  ]
}