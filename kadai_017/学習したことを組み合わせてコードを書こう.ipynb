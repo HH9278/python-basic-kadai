{
  "nbformat": 4,
  "nbformat_minor": 0,
  "metadata": {
    "colab": {
      "provenance": []
    },
    "kernelspec": {
      "name": "python3",
      "display_name": "Python 3"
    },
    "language_info": {
      "name": "python"
    }
  },
  "cells": [
    {
      "cell_type": "code",
      "execution_count": 3,
      "metadata": {
        "id": "t2FqXVdDicp3",
        "colab": {
          "base_uri": "https://localhost:8080/"
        },
        "outputId": "bd452ad3-49bb-4ff7-eda2-0bbc055f8c27"
      },
      "outputs": [
        {
          "output_type": "stream",
          "name": "stdout",
          "text": [
            "太郎は大人です。\n",
            "次郎は大人でないです。\n",
            "義夫は大人です。\n"
          ]
        }
      ],
      "source": [
        "class Human:\n",
        "  def __init__(self, k, v):\n",
        "    self.name = k\n",
        "    self.age = v\n",
        "  def check_adult(self):\n",
        "    return self.age >= 20\n",
        "\n",
        "def printSummary(k, a):\n",
        "  if a:\n",
        "    print(f'{k}は大人です。')\n",
        "  else:\n",
        "    print(f'{k}は大人でないです。')\n",
        "\n",
        "\n",
        "lst = {'太郎':20, '次郎':15, '義夫': 25}\n",
        "\n",
        "for k, v in lst.items():\n",
        "  hmn = Human(k, v)\n",
        "  a = hmn.check_adult()\n",
        "  printSummary(k, a)\n",
        ""
      ]
    }
  ]
}